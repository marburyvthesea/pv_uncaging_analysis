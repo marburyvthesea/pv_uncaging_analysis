{
 "cells": [
  {
   "cell_type": "code",
   "execution_count": 89,
   "metadata": {
    "collapsed": false
   },
   "outputs": [
    {
     "data": {
      "text/html": [
       "<style>.container { width:100% !important; }</style>"
      ],
      "text/plain": [
       "<IPython.core.display.HTML object>"
      ]
     },
     "metadata": {},
     "output_type": "display_data"
    }
   ],
   "source": [
    "from lxml import etree\n",
    "import pandas as pd\n",
    "from pandas import ExcelWriter\n",
    "import matplotlib.pyplot as plt\n",
    "import cv2\n",
    "import numpy as np\n",
    "from IPython.core.display import display, HTML\n",
    "display(HTML(\"<style>.container { width:100% !important; }</style>\"))\n",
    "get_ipython().magic('matplotlib qt5')\n",
    "\n",
    "def get_uncaging_times_coordinates(mark_points_xml_filename):\n",
    "    tree = etree.parse(mark_points_xml_filename)\n",
    "    root = tree.getroot()\n",
    "    delay = root[0][0].attrib['InitialDelay']\n",
    "    interval = root[0][0].attrib['InterPointDelay']\n",
    "    duration = root[0][0].attrib['Duration']\n",
    "    uncaging_times = []\n",
    "    uncaging_coordinates = []\n",
    "    for point in root[0][0]:\n",
    "        uncaging_coordinates.append((point.attrib['X'], point.attrib['Y']))\n",
    "    \n",
    "    for coordinate in range(len(uncaging_coordinates)):\n",
    "        uncaging_times.append(float(delay)+(float(coordinate)*(float(interval)+float(duration))))\n",
    "    \n",
    "    return(pd.DataFrame({'uncaging_times (ms)': uncaging_times , 'uncaging_coordinates':uncaging_coordinates }))\n",
    "\n",
    "def get_uncaging_responses(uncaging_times, voltage_recording_df_input, samples_to_save): \n",
    "    sampling_interval = voltage_recording_df_input['Time(ms)'][1]\n",
    "    uncaging_times_insamples = [time/sampling_interval for time in uncaging_times]\n",
    "    \n",
    "    uncaging_events_df_list = []\n",
    "    \n",
    "    for pulse in uncaging_times_insamples:\n",
    "        if pulse-samples_to_save<=0:\n",
    "            uncaging_responses = (voltage_recording_df_input['Input 0'].values[0:int(pulse+samples_to_save)])\n",
    "            uncaging_times_ = (voltage_recording_df_input['Time(ms)'].values[0:int(pulse+samples_to_save)])\n",
    "        elif pulse-samples_to_save>0:\n",
    "            uncaging_responses = (voltage_recording_df_input['Input 0'].values[int(pulse-samples_to_save):int(pulse+samples_to_save)])\n",
    "            uncaging_times_ = (voltage_recording_df_input['Time(ms)'].values[int(pulse-samples_to_save):int(pulse+samples_to_save)])\n",
    "        uncaging_events_df_list.append(pd.DataFrame({'uncaging_responses': uncaging_responses, 'uncaging_times': uncaging_times_}))\n",
    "    \n",
    "    events = [i+1 for i in range(len(uncaging_events_df_list))]\n",
    "    \n",
    "    df = pd.concat(uncaging_events_df_list, keys=events, names=['points'])    \n",
    "    \n",
    "    return(df)\n",
    "\n",
    "def return_grid(array_of_uncaging_points, grid_length, grid_width): \n",
    "    grid_rows = 0\n",
    "    uncaging_point = 0 \n",
    "    grid = []\n",
    "    while grid_rows < grid_width and uncaging_point < len(array_of_uncaging_points):\n",
    "        grid_row = []\n",
    "        point_in_row = 0\n",
    "        while point_in_row < grid_length:\n",
    "            grid_row.append(array_of_uncaging_points[uncaging_point])\n",
    "            point_in_row += 1\n",
    "            uncaging_point += 1\n",
    "        grid.append(grid_row)\n",
    "        grid_rows += 1\n",
    "        \n",
    "    return(grid)\n",
    "\n",
    "def read_and_adjust_recording_data(voltage_recording_xml, voltage_recording_df):\n",
    "    tree = etree.parse(voltage_recording_xml)\n",
    "    enabled_ch = tree.xpath('.//Enabled[text()=\"true\"]')\n",
    "    channel_params = {}\n",
    "    v_recording = {'Time(ms)': voltage_recording_df['Time(ms)']}\n",
    "    for ch in enabled_ch: \n",
    "        channel_divisor = float(ch.getparent().xpath('Unit')[0].xpath('Divisor')[0].text)\n",
    "        channel_gain = abs(float(ch.getparent().xpath('Unit')[0].xpath('Divisor')[0].text))\n",
    "        v_recording[ch.getparent().xpath('Name')[0].text] = (voltage_recording_df[ch.getparent().xpath('Name')[0].text])/channel_divisor\n",
    "        channel_params[ch.getparent().xpath('Name')[0].text + '_Divisor'] = channel_divisor\n",
    "        channel_params[ch.getparent().xpath('Name')[0].text + '_Gain'] = channel_gain\n",
    "\n",
    "    voltage_recording_adjusted = pd.DataFrame(v_recording)\n",
    "    \n",
    "    return(voltage_recording_adjusted, channel_params)\n",
    "\n",
    "def plot_response(point_num, uncaging_responses_df, uncaging_params_df):\n",
    "    plt.plot(uncaging_responses.loc[point_num]['uncaging_times'], uncaging_responses.loc[point_num]['uncaging_responses'])\n",
    "    plt.axvline(uncaging_params_df['uncaging_times (ms)'].values[point_num-1], color='purple')\n",
    "    plt.show()\n",
    "    return()\n",
    "\n",
    "def save_to_excel(list_of_dfs, xls_path):\n",
    "    writer = ExcelWriter(xls_path)\n",
    "    for n, df in enumerate(list_of_dfs):\n",
    "        df.to_excel(writer, 'sheet%s' % n)\n",
    "    writer.save()\n",
    "    return()"
   ]
  },
  {
   "cell_type": "code",
   "execution_count": 79,
   "metadata": {
    "collapsed": true
   },
   "outputs": [],
   "source": [
    "## path to prairieview folder \n",
    "folder_path = '/Users/johnmarshall/Documents/Analysis/UncagingAnalysis/2018.8.16/MarkPoints-08162018-1423-1815/'\n",
    "experiment = folder_path[-30:-1] "
   ]
  },
  {
   "cell_type": "code",
   "execution_count": 80,
   "metadata": {
    "collapsed": false
   },
   "outputs": [],
   "source": [
    "## get poisition of uncaging points and uncaging protocol from MarkPoints.xml file \n",
    "mark_points_xml_filename = folder_path + experiment + '_Cycle00001_MarkPoints.xml'\n",
    "## get recording info from VoltageRecording .xml file \n",
    "voltage_recording_xml = folder_path + experiment + '_Cycle00001_VoltageRecording_001.xml'\n",
    "\n",
    "## voltage recording data \n",
    "voltage_recording_csv = folder_path + experiment + '_Cycle00001_VoltageRecording_001.csv'\n",
    "\n",
    "## image file \n",
    "reference_image = folder_path + experiment +  'References/' +  experiment + '-Window2-Ch1-8bit-Reference.tif'"
   ]
  },
  {
   "cell_type": "code",
   "execution_count": 81,
   "metadata": {
    "collapsed": false
   },
   "outputs": [],
   "source": [
    "## get the coordinates and times of uncaging pulses\n",
    "uncaging_params = get_uncaging_times_coordinates(mark_points_xml_filename)"
   ]
  },
  {
   "cell_type": "code",
   "execution_count": 82,
   "metadata": {
    "collapsed": false
   },
   "outputs": [],
   "source": [
    "## get the ephys data \n",
    "voltage_recording_df = pd.read_csv(voltage_recording_csv, skipinitialspace=True)"
   ]
  },
  {
   "cell_type": "code",
   "execution_count": 83,
   "metadata": {
    "collapsed": true
   },
   "outputs": [],
   "source": [
    "## adjust the ephys scale \n",
    "voltage_recording_adjusted, channel_params = read_and_adjust_recording_data(voltage_recording_xml, voltage_recording_df)"
   ]
  },
  {
   "cell_type": "code",
   "execution_count": 84,
   "metadata": {
    "collapsed": false,
    "scrolled": true
   },
   "outputs": [],
   "source": [
    "## get the ephys data for a set number of samples around each pulse \n",
    "sample_width_around_pulse = 20000\n",
    "uncaging_responses = get_uncaging_responses(uncaging_params['uncaging_times (ms)'].values, voltage_recording_adjusted, 20000)"
   ]
  },
  {
   "cell_type": "code",
   "execution_count": 85,
   "metadata": {
    "collapsed": false,
    "scrolled": true
   },
   "outputs": [
    {
     "data": {
      "text/plain": [
       "()"
      ]
     },
     "execution_count": 85,
     "metadata": {},
     "output_type": "execute_result"
    }
   ],
   "source": [
    "## plot the response for a given uncaging pulse \n",
    "response_to_plot = 22\n",
    "plot_response(response_to_plot, uncaging_responses, uncaging_params)"
   ]
  },
  {
   "cell_type": "code",
   "execution_count": 86,
   "metadata": {
    "collapsed": false,
    "scrolled": true
   },
   "outputs": [],
   "source": [
    "## get the negative going peak (minimum) around each uncaging event\n",
    "peak_responses = [abs(np.min(uncaging_responses.loc[response+1]['uncaging_responses'])) for response in range(len(list(sorted(set(uncaging_responses.index.get_level_values(0))))))]"
   ]
  },
  {
   "cell_type": "code",
   "execution_count": 87,
   "metadata": {
    "collapsed": false
   },
   "outputs": [],
   "source": [
    "## transform the list of peaks to a grid\n",
    "grid_for_heatmap = return_grid(peak_responses, 16, 16)    "
   ]
  },
  {
   "cell_type": "code",
   "execution_count": 88,
   "metadata": {
    "collapsed": false
   },
   "outputs": [],
   "source": [
    "## plot a heatmap \n",
    "plt.imshow(grid_for_heatmap, cmap='hot', interpolation='nearest')\n",
    "plt.show()"
   ]
  },
  {
   "cell_type": "code",
   "execution_count": 93,
   "metadata": {
    "collapsed": false
   },
   "outputs": [],
   "source": [
    "##save everything to excel file \n",
    "# uncaging_responses\n",
    "uncaging_responses.to_excel(folder_path + 'uncaging_responses_compiled.xlsx')"
   ]
  },
  {
   "cell_type": "code",
   "execution_count": 94,
   "metadata": {
    "collapsed": true
   },
   "outputs": [],
   "source": [
    "# ephys recording \n",
    "voltage_recording_adjusted.to_excel(folder_path + 'ephys_adjusted.xlsx')"
   ]
  },
  {
   "cell_type": "code",
   "execution_count": null,
   "metadata": {
    "collapsed": true
   },
   "outputs": [],
   "source": []
  }
 ],
 "metadata": {
  "kernelspec": {
   "display_name": "Python 3",
   "language": "python",
   "name": "python3"
  },
  "language_info": {
   "codemirror_mode": {
    "name": "ipython",
    "version": 3
   },
   "file_extension": ".py",
   "mimetype": "text/x-python",
   "name": "python",
   "nbconvert_exporter": "python",
   "pygments_lexer": "ipython3",
   "version": "3.4.5"
  }
 },
 "nbformat": 4,
 "nbformat_minor": 2
}
